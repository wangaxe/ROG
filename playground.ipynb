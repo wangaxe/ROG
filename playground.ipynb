{
 "cells": [
  {
   "cell_type": "code",
   "execution_count": 1,
   "metadata": {},
   "outputs": [],
   "source": [
    "sys.path.append('./libs/preprocessing/')\n",
    "from global_features import Global_features\n",
    "from task_preprocessing import Preprocess_datasets\n",
    "from image_sizes import Calcualte_sizes"
   ]
  },
  {
   "cell_type": "code",
   "execution_count": 2,
   "metadata": {},
   "outputs": [],
   "source": [
    "data_root = '/datasets/MSD_data/'\n",
    "out_directory = '/datasets/MSD_data/processed/'\n",
    "num_workers = 8"
   ]
  },
  {
   "cell_type": "code",
   "execution_count": 3,
   "metadata": {},
   "outputs": [
    {
     "name": "stdout",
     "output_type": "stream",
     "text": [
      "Stitstics of task Task01_BrainTumour already calculated\n",
      "Stitstics of task Task02_Heart already calculated\n"
     ]
    }
   ],
   "source": [
    "Global_features(data_root, num_workers)"
   ]
  },
  {
   "cell_type": "code",
   "execution_count": 5,
   "metadata": {},
   "outputs": [],
   "source": [
    "# Calcualte_sizes(out_directory, num_workers)"
   ]
  },
  {
   "cell_type": "code",
   "execution_count": 19,
   "metadata": {},
   "outputs": [
    {
     "name": "stdout",
     "output_type": "stream",
     "text": [
      "BRATS_001.nii.gz  BRATS_122.nii.gz  BRATS_243.nii.gz  BRATS_364.nii.gz\n",
      "BRATS_002.nii.gz  BRATS_123.nii.gz  BRATS_244.nii.gz  BRATS_365.nii.gz\n",
      "BRATS_003.nii.gz  BRATS_124.nii.gz  BRATS_245.nii.gz  BRATS_366.nii.gz\n",
      "BRATS_004.nii.gz  BRATS_125.nii.gz  BRATS_246.nii.gz  BRATS_367.nii.gz\n",
      "BRATS_005.nii.gz  BRATS_126.nii.gz  BRATS_247.nii.gz  BRATS_368.nii.gz\n",
      "BRATS_006.nii.gz  BRATS_127.nii.gz  BRATS_248.nii.gz  BRATS_369.nii.gz\n",
      "BRATS_007.nii.gz  BRATS_128.nii.gz  BRATS_249.nii.gz  BRATS_370.nii.gz\n",
      "BRATS_008.nii.gz  BRATS_129.nii.gz  BRATS_250.nii.gz  BRATS_371.nii.gz\n",
      "BRATS_009.nii.gz  BRATS_130.nii.gz  BRATS_251.nii.gz  BRATS_372.nii.gz\n",
      "BRATS_010.nii.gz  BRATS_131.nii.gz  BRATS_252.nii.gz  BRATS_373.nii.gz\n",
      "BRATS_011.nii.gz  BRATS_132.nii.gz  BRATS_253.nii.gz  BRATS_374.nii.gz\n",
      "BRATS_012.nii.gz  BRATS_133.nii.gz  BRATS_254.nii.gz  BRATS_375.nii.gz\n",
      "BRATS_013.nii.gz  BRATS_134.nii.gz  BRATS_255.nii.gz  BRATS_376.nii.gz\n",
      "BRATS_014.nii.gz  BRATS_135.nii.gz  BRATS_256.nii.gz  BRATS_377.nii.gz\n",
      "BRATS_015.nii.gz  BRATS_136.nii.gz  BRATS_257.nii.gz  BRATS_378.nii.gz\n",
      "BRATS_016.nii.gz  BRATS_137.nii.gz  BRATS_258.nii.gz  BRATS_379.nii.gz\n",
      "BRATS_017.nii.gz  BRATS_138.nii.gz  BRATS_259.nii.gz  BRATS_380.nii.gz\n",
      "BRATS_018.nii.gz  BRATS_139.nii.gz  BRATS_260.nii.gz  BRATS_381.nii.gz\n",
      "BRATS_019.nii.gz  BRATS_140.nii.gz  BRATS_261.nii.gz  BRATS_382.nii.gz\n",
      "BRATS_020.nii.gz  BRATS_141.nii.gz  BRATS_262.nii.gz  BRATS_383.nii.gz\n",
      "BRATS_021.nii.gz  BRATS_142.nii.gz  BRATS_263.nii.gz  BRATS_384.nii.gz\n",
      "BRATS_022.nii.gz  BRATS_143.nii.gz  BRATS_264.nii.gz  BRATS_385.nii.gz\n",
      "BRATS_023.nii.gz  BRATS_144.nii.gz  BRATS_265.nii.gz  BRATS_386.nii.gz\n",
      "BRATS_024.nii.gz  BRATS_145.nii.gz  BRATS_266.nii.gz  BRATS_387.nii.gz\n",
      "BRATS_025.nii.gz  BRATS_146.nii.gz  BRATS_267.nii.gz  BRATS_388.nii.gz\n",
      "BRATS_026.nii.gz  BRATS_147.nii.gz  BRATS_268.nii.gz  BRATS_389.nii.gz\n",
      "BRATS_027.nii.gz  BRATS_148.nii.gz  BRATS_269.nii.gz  BRATS_390.nii.gz\n",
      "BRATS_028.nii.gz  BRATS_149.nii.gz  BRATS_270.nii.gz  BRATS_391.nii.gz\n",
      "BRATS_029.nii.gz  BRATS_150.nii.gz  BRATS_271.nii.gz  BRATS_392.nii.gz\n",
      "BRATS_030.nii.gz  BRATS_151.nii.gz  BRATS_272.nii.gz  BRATS_393.nii.gz\n",
      "BRATS_031.nii.gz  BRATS_152.nii.gz  BRATS_273.nii.gz  BRATS_394.nii.gz\n",
      "BRATS_032.nii.gz  BRATS_153.nii.gz  BRATS_274.nii.gz  BRATS_395.nii.gz\n",
      "BRATS_033.nii.gz  BRATS_154.nii.gz  BRATS_275.nii.gz  BRATS_396.nii.gz\n",
      "BRATS_034.nii.gz  BRATS_155.nii.gz  BRATS_276.nii.gz  BRATS_397.nii.gz\n",
      "BRATS_035.nii.gz  BRATS_156.nii.gz  BRATS_277.nii.gz  BRATS_398.nii.gz\n",
      "BRATS_036.nii.gz  BRATS_157.nii.gz  BRATS_278.nii.gz  BRATS_399.nii.gz\n",
      "BRATS_037.nii.gz  BRATS_158.nii.gz  BRATS_279.nii.gz  BRATS_400.nii.gz\n",
      "BRATS_038.nii.gz  BRATS_159.nii.gz  BRATS_280.nii.gz  BRATS_401.nii.gz\n",
      "BRATS_039.nii.gz  BRATS_160.nii.gz  BRATS_281.nii.gz  BRATS_402.nii.gz\n",
      "BRATS_040.nii.gz  BRATS_161.nii.gz  BRATS_282.nii.gz  BRATS_403.nii.gz\n",
      "BRATS_041.nii.gz  BRATS_162.nii.gz  BRATS_283.nii.gz  BRATS_404.nii.gz\n",
      "BRATS_042.nii.gz  BRATS_163.nii.gz  BRATS_284.nii.gz  BRATS_405.nii.gz\n",
      "BRATS_043.nii.gz  BRATS_164.nii.gz  BRATS_285.nii.gz  BRATS_406.nii.gz\n",
      "BRATS_044.nii.gz  BRATS_165.nii.gz  BRATS_286.nii.gz  BRATS_407.nii.gz\n",
      "BRATS_045.nii.gz  BRATS_166.nii.gz  BRATS_287.nii.gz  BRATS_408.nii.gz\n",
      "BRATS_046.nii.gz  BRATS_167.nii.gz  BRATS_288.nii.gz  BRATS_409.nii.gz\n",
      "BRATS_047.nii.gz  BRATS_168.nii.gz  BRATS_289.nii.gz  BRATS_410.nii.gz\n",
      "BRATS_048.nii.gz  BRATS_169.nii.gz  BRATS_290.nii.gz  BRATS_411.nii.gz\n",
      "BRATS_049.nii.gz  BRATS_170.nii.gz  BRATS_291.nii.gz  BRATS_412.nii.gz\n",
      "BRATS_050.nii.gz  BRATS_171.nii.gz  BRATS_292.nii.gz  BRATS_413.nii.gz\n",
      "BRATS_051.nii.gz  BRATS_172.nii.gz  BRATS_293.nii.gz  BRATS_414.nii.gz\n",
      "BRATS_052.nii.gz  BRATS_173.nii.gz  BRATS_294.nii.gz  BRATS_415.nii.gz\n",
      "BRATS_053.nii.gz  BRATS_174.nii.gz  BRATS_295.nii.gz  BRATS_416.nii.gz\n",
      "BRATS_054.nii.gz  BRATS_175.nii.gz  BRATS_296.nii.gz  BRATS_417.nii.gz\n",
      "BRATS_055.nii.gz  BRATS_176.nii.gz  BRATS_297.nii.gz  BRATS_418.nii.gz\n",
      "BRATS_056.nii.gz  BRATS_177.nii.gz  BRATS_298.nii.gz  BRATS_419.nii.gz\n",
      "BRATS_057.nii.gz  BRATS_178.nii.gz  BRATS_299.nii.gz  BRATS_420.nii.gz\n",
      "BRATS_058.nii.gz  BRATS_179.nii.gz  BRATS_300.nii.gz  BRATS_421.nii.gz\n",
      "BRATS_059.nii.gz  BRATS_180.nii.gz  BRATS_301.nii.gz  BRATS_422.nii.gz\n",
      "BRATS_060.nii.gz  BRATS_181.nii.gz  BRATS_302.nii.gz  BRATS_423.nii.gz\n",
      "BRATS_061.nii.gz  BRATS_182.nii.gz  BRATS_303.nii.gz  BRATS_424.nii.gz\n",
      "BRATS_062.nii.gz  BRATS_183.nii.gz  BRATS_304.nii.gz  BRATS_425.nii.gz\n",
      "BRATS_063.nii.gz  BRATS_184.nii.gz  BRATS_305.nii.gz  BRATS_426.nii.gz\n",
      "BRATS_064.nii.gz  BRATS_185.nii.gz  BRATS_306.nii.gz  BRATS_427.nii.gz\n",
      "BRATS_065.nii.gz  BRATS_186.nii.gz  BRATS_307.nii.gz  BRATS_428.nii.gz\n",
      "BRATS_066.nii.gz  BRATS_187.nii.gz  BRATS_308.nii.gz  BRATS_429.nii.gz\n",
      "BRATS_067.nii.gz  BRATS_188.nii.gz  BRATS_309.nii.gz  BRATS_430.nii.gz\n",
      "BRATS_068.nii.gz  BRATS_189.nii.gz  BRATS_310.nii.gz  BRATS_431.nii.gz\n",
      "BRATS_069.nii.gz  BRATS_190.nii.gz  BRATS_311.nii.gz  BRATS_432.nii.gz\n",
      "BRATS_070.nii.gz  BRATS_191.nii.gz  BRATS_312.nii.gz  BRATS_433.nii.gz\n",
      "BRATS_071.nii.gz  BRATS_192.nii.gz  BRATS_313.nii.gz  BRATS_434.nii.gz\n",
      "BRATS_072.nii.gz  BRATS_193.nii.gz  BRATS_314.nii.gz  BRATS_435.nii.gz\n",
      "BRATS_073.nii.gz  BRATS_194.nii.gz  BRATS_315.nii.gz  BRATS_436.nii.gz\n",
      "BRATS_074.nii.gz  BRATS_195.nii.gz  BRATS_316.nii.gz  BRATS_437.nii.gz\n",
      "BRATS_075.nii.gz  BRATS_196.nii.gz  BRATS_317.nii.gz  BRATS_438.nii.gz\n",
      "BRATS_076.nii.gz  BRATS_197.nii.gz  BRATS_318.nii.gz  BRATS_439.nii.gz\n",
      "BRATS_077.nii.gz  BRATS_198.nii.gz  BRATS_319.nii.gz  BRATS_440.nii.gz\n",
      "BRATS_078.nii.gz  BRATS_199.nii.gz  BRATS_320.nii.gz  BRATS_441.nii.gz\n",
      "BRATS_079.nii.gz  BRATS_200.nii.gz  BRATS_321.nii.gz  BRATS_442.nii.gz\n",
      "BRATS_080.nii.gz  BRATS_201.nii.gz  BRATS_322.nii.gz  BRATS_443.nii.gz\n",
      "BRATS_081.nii.gz  BRATS_202.nii.gz  BRATS_323.nii.gz  BRATS_444.nii.gz\n",
      "BRATS_082.nii.gz  BRATS_203.nii.gz  BRATS_324.nii.gz  BRATS_445.nii.gz\n",
      "BRATS_083.nii.gz  BRATS_204.nii.gz  BRATS_325.nii.gz  BRATS_446.nii.gz\n",
      "BRATS_084.nii.gz  BRATS_205.nii.gz  BRATS_326.nii.gz  BRATS_447.nii.gz\n",
      "BRATS_085.nii.gz  BRATS_206.nii.gz  BRATS_327.nii.gz  BRATS_448.nii.gz\n",
      "BRATS_086.nii.gz  BRATS_207.nii.gz  BRATS_328.nii.gz  BRATS_449.nii.gz\n",
      "BRATS_087.nii.gz  BRATS_208.nii.gz  BRATS_329.nii.gz  BRATS_450.nii.gz\n",
      "BRATS_088.nii.gz  BRATS_209.nii.gz  BRATS_330.nii.gz  BRATS_451.nii.gz\n",
      "BRATS_089.nii.gz  BRATS_210.nii.gz  BRATS_331.nii.gz  BRATS_452.nii.gz\n",
      "BRATS_090.nii.gz  BRATS_211.nii.gz  BRATS_332.nii.gz  BRATS_453.nii.gz\n",
      "BRATS_091.nii.gz  BRATS_212.nii.gz  BRATS_333.nii.gz  BRATS_454.nii.gz\n",
      "BRATS_092.nii.gz  BRATS_213.nii.gz  BRATS_334.nii.gz  BRATS_455.nii.gz\n",
      "BRATS_093.nii.gz  BRATS_214.nii.gz  BRATS_335.nii.gz  BRATS_456.nii.gz\n",
      "BRATS_094.nii.gz  BRATS_215.nii.gz  BRATS_336.nii.gz  BRATS_457.nii.gz\n",
      "BRATS_095.nii.gz  BRATS_216.nii.gz  BRATS_337.nii.gz  BRATS_458.nii.gz\n",
      "BRATS_096.nii.gz  BRATS_217.nii.gz  BRATS_338.nii.gz  BRATS_459.nii.gz\n",
      "BRATS_097.nii.gz  BRATS_218.nii.gz  BRATS_339.nii.gz  BRATS_460.nii.gz\n",
      "BRATS_098.nii.gz  BRATS_219.nii.gz  BRATS_340.nii.gz  BRATS_461.nii.gz\n",
      "BRATS_099.nii.gz  BRATS_220.nii.gz  BRATS_341.nii.gz  BRATS_462.nii.gz\n",
      "BRATS_100.nii.gz  BRATS_221.nii.gz  BRATS_342.nii.gz  BRATS_463.nii.gz\n",
      "BRATS_101.nii.gz  BRATS_222.nii.gz  BRATS_343.nii.gz  BRATS_464.nii.gz\n",
      "BRATS_102.nii.gz  BRATS_223.nii.gz  BRATS_344.nii.gz  BRATS_465.nii.gz\n",
      "BRATS_103.nii.gz  BRATS_224.nii.gz  BRATS_345.nii.gz  BRATS_466.nii.gz\n",
      "BRATS_104.nii.gz  BRATS_225.nii.gz  BRATS_346.nii.gz  BRATS_467.nii.gz\n",
      "BRATS_105.nii.gz  BRATS_226.nii.gz  BRATS_347.nii.gz  BRATS_468.nii.gz\n",
      "BRATS_106.nii.gz  BRATS_227.nii.gz  BRATS_348.nii.gz  BRATS_469.nii.gz\n",
      "BRATS_107.nii.gz  BRATS_228.nii.gz  BRATS_349.nii.gz  BRATS_470.nii.gz\n",
      "BRATS_108.nii.gz  BRATS_229.nii.gz  BRATS_350.nii.gz  BRATS_471.nii.gz\n",
      "BRATS_109.nii.gz  BRATS_230.nii.gz  BRATS_351.nii.gz  BRATS_472.nii.gz\n",
      "BRATS_110.nii.gz  BRATS_231.nii.gz  BRATS_352.nii.gz  BRATS_473.nii.gz\n",
      "BRATS_111.nii.gz  BRATS_232.nii.gz  BRATS_353.nii.gz  BRATS_474.nii.gz\n",
      "BRATS_112.nii.gz  BRATS_233.nii.gz  BRATS_354.nii.gz  BRATS_475.nii.gz\n",
      "BRATS_113.nii.gz  BRATS_234.nii.gz  BRATS_355.nii.gz  BRATS_476.nii.gz\n",
      "BRATS_114.nii.gz  BRATS_235.nii.gz  BRATS_356.nii.gz  BRATS_477.nii.gz\n",
      "BRATS_115.nii.gz  BRATS_236.nii.gz  BRATS_357.nii.gz  BRATS_478.nii.gz\n",
      "BRATS_116.nii.gz  BRATS_237.nii.gz  BRATS_358.nii.gz  BRATS_479.nii.gz\n",
      "BRATS_117.nii.gz  BRATS_238.nii.gz  BRATS_359.nii.gz  BRATS_480.nii.gz\n",
      "BRATS_118.nii.gz  BRATS_239.nii.gz  BRATS_360.nii.gz  BRATS_481.nii.gz\n",
      "BRATS_119.nii.gz  BRATS_240.nii.gz  BRATS_361.nii.gz  BRATS_482.nii.gz\n",
      "BRATS_120.nii.gz  BRATS_241.nii.gz  BRATS_362.nii.gz  BRATS_483.nii.gz\n",
      "BRATS_121.nii.gz  BRATS_242.nii.gz  BRATS_363.nii.gz  BRATS_484.nii.gz\n"
     ]
    }
   ],
   "source": [
    "!ls /datasets/MSD_data/processed/Task01_BrainTumour/labelsTr"
   ]
  },
  {
   "cell_type": "code",
   "execution_count": 11,
   "metadata": {},
   "outputs": [],
   "source": [
    "import nibabel as nib\n",
    "import numpy as np\n",
    "import matplotlib.pyplot as plt\n",
    "from PIL import Image\n",
    "import os"
   ]
  },
  {
   "cell_type": "code",
   "execution_count": 12,
   "metadata": {},
   "outputs": [],
   "source": [
    "img = nib.load(os.path.join(out_directory,'Task01_BrainTumour/imagesTr', 'BRATS_001.nii.gz'))"
   ]
  },
  {
   "cell_type": "code",
   "execution_count": 17,
   "metadata": {},
   "outputs": [
    {
     "name": "stdout",
     "output_type": "stream",
     "text": [
      "(240, 240, 155, 4)\n",
      "max 2.760571241378784\n",
      "min -1.1912281513214111\n",
      "(240, 240)\n"
     ]
    },
    {
     "data": {
      "text/plain": [
       "<matplotlib.image.AxesImage at 0x7feaee778cd0>"
      ]
     },
     "execution_count": 17,
     "metadata": {},
     "output_type": "execute_result"
    },
    {
     "data": {
      "image/png": "[encoded data removed]",
      "text/plain": [
       "<Figure size 432x288 with 1 Axes>"
      ]
     },
     "metadata": {
      "needs_background": "light"
     },
     "output_type": "display_data"
    }
   ],
   "source": [
    "im = img.get_fdata()\n",
    "print(im.shape)\n",
    "\n",
    "max = np.max(im)\n",
    "print('max', max)\n",
    "min = np.min(im)\n",
    "print('min', min)\n",
    "im = im - np.min(im)\n",
    "im = im / np.max(im)\n",
    "image = Image.fromarray((im[:,:,50] * 255).astype(np.uint8))\n",
    "print(image.size)\n",
    "plt.imshow(image)"
   ]
  },
  {
   "cell_type": "code",
   "execution_count": 1,
   "metadata": {},
   "outputs": [
    {
     "ename": "NameError",
     "evalue": "name 'nib' is not defined",
     "output_type": "error",
     "traceback": [
      "\u001b[0;31m---------------------------------------------------------------------------\u001b[0m",
      "\u001b[0;31mNameError\u001b[0m                                 Traceback (most recent call last)",
      "\u001b[0;32m/tmp/ipykernel_3380440/2935942218.py\u001b[0m in \u001b[0;36m<module>\u001b[0;34m\u001b[0m\n\u001b[0;32m----> 1\u001b[0;31m \u001b[0mlabel\u001b[0m \u001b[0;34m=\u001b[0m \u001b[0mnib\u001b[0m\u001b[0;34m.\u001b[0m\u001b[0mload\u001b[0m\u001b[0;34m(\u001b[0m\u001b[0mos\u001b[0m\u001b[0;34m.\u001b[0m\u001b[0mpath\u001b[0m\u001b[0;34m.\u001b[0m\u001b[0mjoin\u001b[0m\u001b[0;34m(\u001b[0m\u001b[0mout_directory\u001b[0m\u001b[0;34m,\u001b[0m\u001b[0;34m'Task01_BrainTumour/labelsTr'\u001b[0m\u001b[0;34m,\u001b[0m \u001b[0;34m'BRATS_001.nii.gz'\u001b[0m\u001b[0;34m)\u001b[0m\u001b[0;34m)\u001b[0m\u001b[0;34m.\u001b[0m\u001b[0mget_fdata\u001b[0m\u001b[0;34m(\u001b[0m\u001b[0;34m)\u001b[0m\u001b[0;34m\u001b[0m\u001b[0;34m\u001b[0m\u001b[0m\n\u001b[0m\u001b[1;32m      2\u001b[0m \u001b[0mlabel\u001b[0m \u001b[0;34m=\u001b[0m \u001b[0mlabel\u001b[0m\u001b[0;34m.\u001b[0m\u001b[0mastype\u001b[0m\u001b[0;34m(\u001b[0m\u001b[0mint\u001b[0m\u001b[0;34m)\u001b[0m\u001b[0;34m\u001b[0m\u001b[0;34m\u001b[0m\u001b[0m\n",
      "\u001b[0;31mNameError\u001b[0m: name 'nib' is not defined"
     ]
    }
   ],
   "source": [
    "label = nib.load(os.path.join(out_directory,'Task01_BrainTumour/labelsTr', 'BRATS_001.nii.gz')).get_fdata()\n",
    "label = label.astype(int)"
   ]
  },
  {
   "cell_type": "code",
   "execution_count": null,
   "metadata": {},
   "outputs": [],
   "source": []
  }
 ],
 "metadata": {
  "kernelspec": {
   "display_name": "Python 3.8.12 ('torch_lts')",
   "language": "python",
   "name": "python3"
  },
  "language_info": {
   "codemirror_mode": {
    "name": "ipython",
    "version": 3
   },
   "file_extension": ".py",
   "mimetype": "text/x-python",
   "name": "python",
   "nbconvert_exporter": "python",
   "pygments_lexer": "ipython3",
   "version": "3.8.12"
  },
  "orig_nbformat": 4,
  "vscode": {
   "interpreter": {
    "hash": "5fcb7b794766e942f6fd78e7e9b43f8f740ed672cd9a4a9a9b1dcf0851b90e07"
   }
  }
 },
 "nbformat": 4,
 "nbformat_minor": 2
}
